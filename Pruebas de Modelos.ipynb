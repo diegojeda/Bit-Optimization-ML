{
  "nbformat": 4,
  "nbformat_minor": 0,
  "metadata": {
    "colab": {
      "name": "Untitled1.ipynb",
      "provenance": [],
      "authorship_tag": "ABX9TyOGdA9Hfex8M2hYsZDUltHI",
      "include_colab_link": true
    },
    "kernelspec": {
      "name": "python3",
      "display_name": "Python 3"
    }
  },
  "cells": [
    {
      "cell_type": "markdown",
      "metadata": {
        "id": "view-in-github",
        "colab_type": "text"
      },
      "source": [
        "<a href=\"https://colab.research.google.com/github/diegojeda/Bit-Optimization-ML/blob/master/Pruebas%20de%20Modelos.ipynb\" target=\"_parent\"><img src=\"https://colab.research.google.com/assets/colab-badge.svg\" alt=\"Open In Colab\"/></a>"
      ]
    },
    {
      "cell_type": "code",
      "metadata": {
        "id": "WkPanCaCoTyT",
        "colab_type": "code",
        "colab": {}
      },
      "source": [
        "import pandas as pd\n",
        "import numpy as np\n",
        "from numpy import loadtxt\n",
        "from pylab import *\n",
        "import matplotlib.pyplot as plt\n",
        "%matplotlib inline\n",
        "import seaborn as sns\n",
        "from IPython.core.interactiveshell import InteractiveShell  \n",
        "InteractiveShell.ast_node_interactivity = \"all\"\n",
        "from IPython.display import display, HTML\n",
        "import pandas as pd\n",
        "from scipy import stats\n",
        "import pandas_profiling\n",
        "import numpy as np\n",
        "import seaborn as sns\n",
        "import matplotlib.pyplot as plt\n",
        "import os\n",
        "import missingno as msno;"
      ],
      "execution_count": 54,
      "outputs": []
    },
    {
      "cell_type": "code",
      "metadata": {
        "id": "zlbxKmvsodsj",
        "colab_type": "code",
        "colab": {}
      },
      "source": [
        "url = \"https://raw.githubusercontent.com/diegojeda/Curso-Analytics---Drilling-Bits/master/Dataset/BaseLimpia.csv\"\n",
        "\n",
        "base = pd.read_csv(url,error_bad_lines=False)"
      ],
      "execution_count": 55,
      "outputs": []
    },
    {
      "cell_type": "code",
      "metadata": {
        "id": "Z5fOQGDpo-MS",
        "colab_type": "code",
        "colab": {}
      },
      "source": [
        "from sklearn.ensemble import AdaBoostRegressor\n",
        "from sklearn.tree import DecisionTreeRegressor\n",
        "from sklearn.model_selection import RandomizedSearchCV\n",
        "from sklearn.metrics import r2_score , mean_squared_error\n",
        "from sklearn.model_selection import GridSearchCV\n",
        "from sklearn.model_selection import train_test_split\n",
        "\n",
        "# Creamos las matrices para los modelos\n",
        "X = base.drop('Log ROP', axis=1)\n",
        "y = base[['Log ROP']]\n",
        "\n",
        "# Dividimos los datos de manera aleatoria con el 25% para test y 75% para train\n",
        "X_train, X_test, y_train, y_test = train_test_split(X, y, test_size=0.25, random_state=101)\n",
        "\n",
        "\n",
        "Seed = 1\n",
        "\n",
        "dt = DecisionTreeRegressor(random_state=Seed)\n",
        "ADABoo = AdaBoostRegressor(base_estimator = dt,random_state=Seed)\n",
        "\n",
        "\n"
      ],
      "execution_count": 56,
      "outputs": []
    },
    {
      "cell_type": "code",
      "metadata": {
        "id": "k_bdvqz4pxJY",
        "colab_type": "code",
        "colab": {
          "base_uri": "https://localhost:8080/",
          "height": 391
        },
        "outputId": "f2a361b3-f3f7-497e-8e99-8c1a89ef58ae"
      },
      "source": [
        "ADABoo.get_params()"
      ],
      "execution_count": 57,
      "outputs": [
        {
          "output_type": "execute_result",
          "data": {
            "text/plain": [
              "{'base_estimator': DecisionTreeRegressor(ccp_alpha=0.0, criterion='mse', max_depth=None,\n",
              "                       max_features=None, max_leaf_nodes=None,\n",
              "                       min_impurity_decrease=0.0, min_impurity_split=None,\n",
              "                       min_samples_leaf=1, min_samples_split=2,\n",
              "                       min_weight_fraction_leaf=0.0, presort='deprecated',\n",
              "                       random_state=1, splitter='best'),\n",
              " 'base_estimator__ccp_alpha': 0.0,\n",
              " 'base_estimator__criterion': 'mse',\n",
              " 'base_estimator__max_depth': None,\n",
              " 'base_estimator__max_features': None,\n",
              " 'base_estimator__max_leaf_nodes': None,\n",
              " 'base_estimator__min_impurity_decrease': 0.0,\n",
              " 'base_estimator__min_impurity_split': None,\n",
              " 'base_estimator__min_samples_leaf': 1,\n",
              " 'base_estimator__min_samples_split': 2,\n",
              " 'base_estimator__min_weight_fraction_leaf': 0.0,\n",
              " 'base_estimator__presort': 'deprecated',\n",
              " 'base_estimator__random_state': 1,\n",
              " 'base_estimator__splitter': 'best',\n",
              " 'learning_rate': 1.0,\n",
              " 'loss': 'linear',\n",
              " 'n_estimators': 50,\n",
              " 'random_state': 1}"
            ]
          },
          "metadata": {
            "tags": []
          },
          "execution_count": 57
        }
      ]
    },
    {
      "cell_type": "code",
      "metadata": {
        "id": "8oUsFfbyu36D",
        "colab_type": "code",
        "colab": {
          "base_uri": "https://localhost:8080/",
          "height": 1000
        },
        "outputId": "ff0d4a08-946d-48c2-8e70-d2f196de09af"
      },
      "source": [
        "# Definimos el grid de evaluacion para los hyperparametros del Bagging\n",
        "grid_parametros = {\n",
        "    \"n_estimators\" : range(1, 200,10),\n",
        "    \"base_estimator__max_features\" : range(1, 22),\n",
        "    \"base_estimator__max_depth\" : [1,2,3,4,5],\n",
        "    \"base_estimator__min_samples_leaf\" : [0.06,0.08,0.1,0.2,0.5],\n",
        "    \"learning_rate\" : [0.1,0.2,0.5,0.7,0.9]\n",
        "                  }\n",
        "\n",
        "# Instanciamos el grid de busqueda, realizando un 5-folds CV\n",
        "grid_AdaBoost = GridSearchCV(estimator = ADABoo,\n",
        "                                   #n_iter = 1000,\n",
        "                                   param_grid  = grid_parametros,\n",
        "                                   scoring=\"r2\",\n",
        "                                   cv=5,\n",
        "                                   verbose=1,\n",
        "                                   n_jobs=-1,\n",
        "                                   #return_train_score=True\n",
        "                            )\n",
        "\n",
        "# Ajustamos el la busqueda con los valores de train\n",
        "grid_AdaBoost.fit(X_train,y_train)"
      ],
      "execution_count": 58,
      "outputs": [
        {
          "output_type": "stream",
          "text": [
            "Fitting 5 folds for each of 52500 candidates, totalling 262500 fits\n"
          ],
          "name": "stdout"
        },
        {
          "output_type": "stream",
          "text": [
            "[Parallel(n_jobs=-1)]: Using backend LokyBackend with 2 concurrent workers.\n",
            "[Parallel(n_jobs=-1)]: Done  46 tasks      | elapsed:    5.4s\n",
            "[Parallel(n_jobs=-1)]: Done 464 tasks      | elapsed:   16.2s\n",
            "[Parallel(n_jobs=-1)]: Done 1464 tasks      | elapsed:   42.1s\n",
            "[Parallel(n_jobs=-1)]: Done 3208 tasks      | elapsed:  1.5min\n",
            "[Parallel(n_jobs=-1)]: Done 6646 tasks      | elapsed:  3.4min\n",
            "[Parallel(n_jobs=-1)]: Done 8560 tasks      | elapsed:  4.5min\n",
            "[Parallel(n_jobs=-1)]: Done 11132 tasks      | elapsed:  6.4min\n",
            "[Parallel(n_jobs=-1)]: Done 13918 tasks      | elapsed:  8.4min\n",
            "[Parallel(n_jobs=-1)]: Done 17318 tasks      | elapsed: 10.9min\n",
            "[Parallel(n_jobs=-1)]: Done 20694 tasks      | elapsed: 13.2min\n",
            "[Parallel(n_jobs=-1)]: Done 24674 tasks      | elapsed: 15.8min\n",
            "[Parallel(n_jobs=-1)]: Done 28852 tasks      | elapsed: 18.4min\n",
            "[Parallel(n_jobs=-1)]: Done 33324 tasks      | elapsed: 21.5min\n",
            "[Parallel(n_jobs=-1)]: Done 38724 tasks      | elapsed: 25.0min\n",
            "[Parallel(n_jobs=-1)]: Done 44308 tasks      | elapsed: 28.8min\n",
            "[Parallel(n_jobs=-1)]: Done 50508 tasks      | elapsed: 32.8min\n",
            "[Parallel(n_jobs=-1)]: Done 56608 tasks      | elapsed: 36.8min\n",
            "[Parallel(n_jobs=-1)]: Done 61702 tasks      | elapsed: 41.7min\n",
            "[Parallel(n_jobs=-1)]: Done 66080 tasks      | elapsed: 46.2min\n",
            "[Parallel(n_jobs=-1)]: Done 70656 tasks      | elapsed: 50.9min\n",
            "[Parallel(n_jobs=-1)]: Done 75570 tasks      | elapsed: 56.1min\n",
            "[Parallel(n_jobs=-1)]: Done 80642 tasks      | elapsed: 61.3min\n",
            "[Parallel(n_jobs=-1)]: Done 85596 tasks      | elapsed: 66.6min\n",
            "[Parallel(n_jobs=-1)]: Done 90846 tasks      | elapsed: 72.3min\n",
            "[Parallel(n_jobs=-1)]: Done 96312 tasks      | elapsed: 78.4min\n",
            "[Parallel(n_jobs=-1)]: Done 101988 tasks      | elapsed: 84.6min\n",
            "[Parallel(n_jobs=-1)]: Done 108538 tasks      | elapsed: 90.6min\n",
            "[Parallel(n_jobs=-1)]: Done 115164 tasks      | elapsed: 97.9min\n",
            "[Parallel(n_jobs=-1)]: Done 121406 tasks      | elapsed: 105.8min\n",
            "[Parallel(n_jobs=-1)]: Done 127836 tasks      | elapsed: 113.6min\n",
            "[Parallel(n_jobs=-1)]: Done 134306 tasks      | elapsed: 122.2min\n",
            "[Parallel(n_jobs=-1)]: Done 141166 tasks      | elapsed: 131.0min\n",
            "[Parallel(n_jobs=-1)]: Done 148070 tasks      | elapsed: 140.0min\n",
            "[Parallel(n_jobs=-1)]: Done 155306 tasks      | elapsed: 150.0min\n",
            "[Parallel(n_jobs=-1)]: Done 164042 tasks      | elapsed: 160.0min\n",
            "[Parallel(n_jobs=-1)]: Done 171980 tasks      | elapsed: 169.9min\n",
            "[Parallel(n_jobs=-1)]: Done 179618 tasks      | elapsed: 179.7min\n",
            "[Parallel(n_jobs=-1)]: Done 187812 tasks      | elapsed: 190.3min\n",
            "[Parallel(n_jobs=-1)]: Done 196292 tasks      | elapsed: 202.3min\n",
            "[Parallel(n_jobs=-1)]: Done 204680 tasks      | elapsed: 213.9min\n",
            "[Parallel(n_jobs=-1)]: Done 214142 tasks      | elapsed: 225.7min\n",
            "[Parallel(n_jobs=-1)]: Done 223846 tasks      | elapsed: 237.6min\n",
            "[Parallel(n_jobs=-1)]: Done 232938 tasks      | elapsed: 249.0min\n",
            "[Parallel(n_jobs=-1)]: Done 242172 tasks      | elapsed: 261.6min\n",
            "[Parallel(n_jobs=-1)]: Done 251788 tasks      | elapsed: 275.2min\n",
            "[Parallel(n_jobs=-1)]: Done 261548 tasks      | elapsed: 289.3min\n",
            "[Parallel(n_jobs=-1)]: Done 262500 out of 262500 | elapsed: 290.0min finished\n",
            "/usr/local/lib/python3.6/dist-packages/sklearn/utils/validation.py:760: DataConversionWarning: A column-vector y was passed when a 1d array was expected. Please change the shape of y to (n_samples, ), for example using ravel().\n",
            "  y = column_or_1d(y, warn=True)\n"
          ],
          "name": "stderr"
        },
        {
          "output_type": "execute_result",
          "data": {
            "text/plain": [
              "GridSearchCV(cv=5, error_score=nan,\n",
              "             estimator=AdaBoostRegressor(base_estimator=DecisionTreeRegressor(ccp_alpha=0.0,\n",
              "                                                                              criterion='mse',\n",
              "                                                                              max_depth=None,\n",
              "                                                                              max_features=None,\n",
              "                                                                              max_leaf_nodes=None,\n",
              "                                                                              min_impurity_decrease=0.0,\n",
              "                                                                              min_impurity_split=None,\n",
              "                                                                              min_samples_leaf=1,\n",
              "                                                                              min_samples_split=2,\n",
              "                                                                              min_weight_fraction_leaf=0.0,\n",
              "                                                                              presort='deprecated',\n",
              "                                                                              random_state=1,\n",
              "                                                                              splitter='best...\n",
              "                                         n_estimators=50, random_state=1),\n",
              "             iid='deprecated', n_jobs=-1,\n",
              "             param_grid={'base_estimator__max_depth': [1, 2, 3, 4, 5],\n",
              "                         'base_estimator__max_features': range(1, 22),\n",
              "                         'base_estimator__min_samples_leaf': [0.06, 0.08, 0.1,\n",
              "                                                              0.2, 0.5],\n",
              "                         'learning_rate': [0.1, 0.2, 0.5, 0.7, 0.9],\n",
              "                         'n_estimators': range(1, 200, 10)},\n",
              "             pre_dispatch='2*n_jobs', refit=True, return_train_score=False,\n",
              "             scoring='r2', verbose=1)"
            ]
          },
          "metadata": {
            "tags": []
          },
          "execution_count": 58
        }
      ]
    },
    {
      "cell_type": "code",
      "metadata": {
        "id": "iPEQ8CbJzdiT",
        "colab_type": "code",
        "colab": {}
      },
      "source": [
        "from sklearn.metrics import r2_score , mean_squared_error\n",
        "\n",
        "def tabla_result (modelos,X_test,y_test):\n",
        "    '''\n",
        "    modelos: Diccionario con los modelos a evaluar\n",
        "    X_test : Matriz X con los valores de test\n",
        "    y_test : Matriz y con los valores de test\n",
        "    '''\n",
        "    y_pred = []\n",
        "    MSE = []\n",
        "    MSE_lin = []\n",
        "    R2 = []\n",
        "    R2_lin = []\n",
        "    \n",
        "    for m_name,m in modelos:\n",
        "        y=m.predict(X_test)\n",
        "        y_pred.append(y)\n",
        "        \n",
        "        MSE.append(mean_squared_error(y_test,y))\n",
        "        MSE_lin.append(mean_squared_error(np.exp(y_test),np.exp(y)))\n",
        "        \n",
        "        R2.append(r2_score(y_test,y))\n",
        "        R2_lin.append(r2_score(np.exp(y_test),np.exp(y)))\n",
        "        \n",
        "    return (y_pred, MSE, R2, R2_lin, MSE_lin)"
      ],
      "execution_count": 62,
      "outputs": []
    },
    {
      "cell_type": "code",
      "metadata": {
        "id": "FtqPTQXxzVTQ",
        "colab_type": "code",
        "colab": {
          "base_uri": "https://localhost:8080/",
          "height": 186
        },
        "outputId": "62471d38-f18d-4fb4-9341-5f36d7e7db12"
      },
      "source": [
        "# Extraemos los mejores hyperparametros encontrados en la busqueda\n",
        "best_hyperparametros = grid_AdaBoost.best_params_\n",
        "print('Mejores Hyerparametros:\\n', best_hyperparametros)\n",
        "\n",
        "# Extraemos el mejor R2 del cross-validation\n",
        "best_R2 = grid_AdaBoost.best_score_\n",
        "print('Mejor R2 de CV:\\n', best_R2)\n",
        "\n",
        "# Extraemos el modelos con los mejores parametros\n",
        "best_AdaBoost = grid_AdaBoost.best_estimator_\n",
        "\n",
        "# Evaluamos el mejor modelo con los datos de test\n",
        "test_R2 = best_AdaBoost.score(X_test,y_test)\n",
        "print(\"R2 de Test del Mejor Modelo: {:.3f}\".format(test_R2))\n",
        "\n",
        "# Diccionario con el modelo\n",
        "modelos = [(\"AdaBoost\",best_AdaBoost)]\n",
        "\n",
        "# Extraemos los resultados\n",
        "y_pred, MSE, R2, R2_lin, MSE_lin = tabla_result(modelos,X_test,y_test)\n",
        "\n",
        "# Presentamos los datos en una tabla\n",
        "Res = {\"Modelo\":[\"AdaBoost\"],\n",
        "           \"MSE\":MSE,\n",
        "           \"R2\":R2}\n",
        "Res = pd.DataFrame(Res)\n",
        "Res.set_index(\"Modelo\",inplace=True)\n",
        "Res"
      ],
      "execution_count": 63,
      "outputs": [
        {
          "output_type": "stream",
          "text": [
            "Mejores Hyerparametros:\n",
            " {'base_estimator__max_depth': 5, 'base_estimator__max_features': 16, 'base_estimator__min_samples_leaf': 0.06, 'learning_rate': 0.9, 'n_estimators': 101}\n",
            "Mejor R2 de CV:\n",
            " 0.7519003865560324\n",
            "R2 de Test del Mejor Modelo: 0.609\n"
          ],
          "name": "stdout"
        },
        {
          "output_type": "execute_result",
          "data": {
            "text/html": [
              "<div>\n",
              "<style scoped>\n",
              "    .dataframe tbody tr th:only-of-type {\n",
              "        vertical-align: middle;\n",
              "    }\n",
              "\n",
              "    .dataframe tbody tr th {\n",
              "        vertical-align: top;\n",
              "    }\n",
              "\n",
              "    .dataframe thead th {\n",
              "        text-align: right;\n",
              "    }\n",
              "</style>\n",
              "<table border=\"1\" class=\"dataframe\">\n",
              "  <thead>\n",
              "    <tr style=\"text-align: right;\">\n",
              "      <th></th>\n",
              "      <th>MSE</th>\n",
              "      <th>R2</th>\n",
              "    </tr>\n",
              "    <tr>\n",
              "      <th>Modelo</th>\n",
              "      <th></th>\n",
              "      <th></th>\n",
              "    </tr>\n",
              "  </thead>\n",
              "  <tbody>\n",
              "    <tr>\n",
              "      <th>AdaBoost</th>\n",
              "      <td>0.347699</td>\n",
              "      <td>0.609212</td>\n",
              "    </tr>\n",
              "  </tbody>\n",
              "</table>\n",
              "</div>"
            ],
            "text/plain": [
              "               MSE        R2\n",
              "Modelo                      \n",
              "AdaBoost  0.347699  0.609212"
            ]
          },
          "metadata": {
            "tags": []
          },
          "execution_count": 63
        }
      ]
    },
    {
      "cell_type": "code",
      "metadata": {
        "id": "d7lg11cazVy0",
        "colab_type": "code",
        "colab": {
          "base_uri": "https://localhost:8080/",
          "height": 487
        },
        "outputId": "7af7631c-d6c6-4a24-f77e-0eb74ee25a03"
      },
      "source": [
        "# Construimos los graficos de valores reales Vs valores predichos por el modelo\n",
        "plt.figure(figsize = (16,7))\n",
        "\n",
        "plt.subplot(121)\n",
        "plt.plot(y_test,y_pred[0],linestyle=\"none\",marker=\"*\", color=\"red\", label=\"Test\")\n",
        "plt.plot(y_train,best_AdaBoost.predict(X_train),linestyle=\"none\",marker=\".\", color=\"blue\",label=\"Train\")\n",
        "plt.plot([0, 5], [0, 5], 'k-', lw=2)\n",
        "plt.xlabel(\"Log ROP Real\")\n",
        "plt.ylabel(\"Log ROP Predicho\")\n",
        "plt.title(\"Modelo ADABoost\\nR2:%f \\nMSE:%f\" %(R2[0],MSE[0]))\n",
        "plt.legend(loc=\"upper left\")\n",
        "\n",
        "plt.subplot(122)\n",
        "plt.plot(np.exp(y_test),np.exp(y_pred[0]),linestyle=\"none\",marker=\"*\", color=\"red\", label=\"Test\")\n",
        "plt.plot(np.exp(y_train),np.exp(best_AdaBoost.predict(X_train)),linestyle=\"none\",marker=\".\", color=\"blue\",label=\"Train\")\n",
        "plt.plot([0, 60], [0, 60], 'k-', lw=2)\n",
        "plt.xlabel(\"ROP Real (ft/hr)\")\n",
        "plt.ylabel(\"ROP Predicho (ft/hr)\")\n",
        "plt.title(\"Modelo ADABoost\\nR2:%f \\nMSE:%f\" %(R2_lin[0],MSE_lin[0]))\n",
        "plt.legend(loc=\"upper left\");"
      ],
      "execution_count": 64,
      "outputs": [
        {
          "output_type": "display_data",
          "data": {
            "image/png": "[encoded data removed]",
            "text/plain": [
              "<Figure size 1152x504 with 2 Axes>"
            ]
          },
          "metadata": {
            "tags": [],
            "needs_background": "light"
          }
        }
      ]
    },
    {
      "cell_type": "code",
      "metadata": {
        "id": "o502U96nzyHb",
        "colab_type": "code",
        "colab": {}
      },
      "source": [
        ""
      ],
      "execution_count": null,
      "outputs": []
    }
  ]
}