{
 "cells": [
  {
   "cell_type": "code",
   "execution_count": null,
   "metadata": {},
   "outputs": [],
   "source": [
    "import pandas as pd\n",
    "import numpy as np\n",
    "from numpy import loadtxt\n",
    "from pylab import *\n",
    "import matplotlib.pyplot as plt\n",
    "%matplotlib inline\n",
    "import seaborn as sns\n",
    "from IPython.core.interactiveshell import InteractiveShell  \n",
    "InteractiveShell.ast_node_interactivity = \"all\"\n",
    "from IPython.display import display, HTML\n",
    "import pandas as pd\n",
    "from scipy import stats\n",
    "import pandas_profiling\n",
    "import numpy as np\n",
    "import seaborn as sns\n",
    "import matplotlib.pyplot as plt\n",
    "import os\n",
    "import missingno as msno\n",
    "import pickle\n",
    "from sklearn.preprocessing import LabelEncoder"
   ]
  },
  {
   "cell_type": "code",
   "execution_count": null,
   "metadata": {},
   "outputs": [],
   "source": [
    "url = \"https://raw.githubusercontent.com/diegojeda/Curso-Analytics---Drilling-Bits/master/Dataset/BLCat.csv\"\n",
    "\n",
    "base = pd.read_csv(url,error_bad_lines=False)"
   ]
  },
  {
   "cell_type": "code",
   "execution_count": null,
   "metadata": {},
   "outputs": [],
   "source": [
    "# load the model from disk\n",
    "loaded_model = pickle.load(open('svr_to_deploy.pkl', 'rb'))"
   ]
  },
  {
   "cell_type": "code",
   "execution_count": null,
   "metadata": {},
   "outputs": [],
   "source": [
    "feature_cols=base.drop('Log ROP', axis=1).columns"
   ]
  },
  {
   "cell_type": "code",
   "execution_count": null,
   "metadata": {},
   "outputs": [],
   "source": [
    "feature_cols"
   ]
  },
  {
   "cell_type": "code",
   "execution_count": null,
   "metadata": {},
   "outputs": [],
   "source": [
    "range(100,500,1)"
   ]
  },
  {
   "cell_type": "code",
   "execution_count": null,
   "metadata": {},
   "outputs": [],
   "source": [
    "from itertools import product\n",
    "\n",
    "Size=[8.5]\n",
    "Re_Run=[\"N\"]\n",
    "Type=[\"PDC\"]\n",
    "Structure=[\"Anticlinal P\"]\n",
    "Formation=[\"Mirador\"]\n",
    "Footage=[150]\n",
    "Depth_Average=[15000]\n",
    "Blades = [13]\n",
    "Cutter_size=[11]\n",
    "Min_FR= list(np.linspace(100,500,num=5))\n",
    "Max_FR = list(np.linspace(500,1100,num=5))\n",
    "TFA = list(np.linspace(1,5,num=5))\n",
    "HSI = list(np.linspace(1,5,num=5))\n",
    "Min_WOB = list(np.linspace(5, 30, num=6))\n",
    "Max_WOB = list(np.linspace(30,55,num=6))\n",
    "Mud_Weight=[10]\n",
    "Drive_System=[\"RSS\"]\n",
    "Min_RPM = list(np.linspace(60,120,num=6))\n",
    "Max_RPM = list(np.linspace(120,170,num=7))\n",
    "T_Min =  list(np.linspace(5,25,num=5))\n",
    "T_Max  = list(np.linspace(25,50,num=6))\n",
    "Manufacturer=[\"Smith\"]\n",
    "\n",
    "Data_exp=pd.DataFrame(list(product(Size,Re_Run,Type,Structure,Formation,Footage,Depth_Average,Blades,Cutter_size,Min_FR, Max_FR,TFA,HSI,Min_WOB,Max_WOB,Mud_Weight,Drive_System,Min_RPM,Max_RPM,T_Max,T_Min,Manufacturer)),\n",
    "                 columns=[\"Size\",\"Re_Run\",\"Type\",\"Structure\",\"Formation\",\"Footage\",\"Depth Average\",\"Blades\",\"Cutter size\",\"Min Flow Rate\", \"Max Flow Rate\",\"TFA\",\"HSI\",\"Min WOB\",\"Max WOB\",\"Mud Weight\",\"Drive_System\",\"Min_RPM\",\"Max_RPM\",\"Torque Max\",\"Torque Min\",\"Manufacturer\"])\n",
    "\n",
    "Data_exp.iloc[0:10] # Primeras cinco filas"
   ]
  },
  {
   "cell_type": "code",
   "execution_count": null,
   "metadata": {},
   "outputs": [],
   "source": [
    "Base_Frame = Data_exp.copy()\n",
    "Base_Frame.columns"
   ]
  },
  {
   "cell_type": "code",
   "execution_count": null,
   "metadata": {},
   "outputs": [],
   "source": [
    "Data_exp"
   ]
  },
  {
   "cell_type": "code",
   "execution_count": null,
   "metadata": {},
   "outputs": [],
   "source": [
    "Data_exp.Footage=np.log(Data_exp.Footage)\n",
    "\n",
    "Data_exp[\"Min WOB\"]=np.log(Data_exp[\"Min WOB\"])\n",
    "\n",
    "Data_exp = Data_exp.rename(columns = {\"Footage\":\"Log Footage\",\n",
    "                              \"Min WOB\":\"Log Min WOB\"})\n",
    "\n",
    "Data_exp.tail()"
   ]
  },
  {
   "cell_type": "code",
   "execution_count": null,
   "metadata": {},
   "outputs": [],
   "source": [
    "base = base.drop(['Log ROP',\"Depth out\",\"Depth in\",\"Bit_Number\",\"Reference\",\"Well\",\"Unnamed: 0\"],axis=1)"
   ]
  },
  {
   "cell_type": "code",
   "execution_count": null,
   "metadata": {},
   "outputs": [],
   "source": [
    "base"
   ]
  },
  {
   "cell_type": "code",
   "execution_count": null,
   "metadata": {},
   "outputs": [],
   "source": [
    "base_exp_pred=base.append(Data_exp)"
   ]
  },
  {
   "cell_type": "code",
   "execution_count": null,
   "metadata": {
    "scrolled": true
   },
   "outputs": [],
   "source": [
    "base_exp_pred"
   ]
  },
  {
   "cell_type": "code",
   "execution_count": null,
   "metadata": {
    "scrolled": true
   },
   "outputs": [],
   "source": [
    "# Verificamos las categorias de cada variable categorica\n",
    "print(base_exp_pred.Re_Run.unique())\n",
    "print(base_exp_pred.Type.unique())\n",
    "print(base_exp_pred.Structure.unique())\n",
    "print(base_exp_pred.Formation.unique())\n",
    "print(base_exp_pred.Drive_System.unique())\n",
    "print(base_exp_pred.Manufacturer.unique())"
   ]
  },
  {
   "cell_type": "code",
   "execution_count": null,
   "metadata": {},
   "outputs": [],
   "source": [
    "# Identificamos las etiquetas de las categorias\n",
    "categorical_features = ['Re_Run', 'Type', 'Structure',\"Formation\",\"Drive_System\",\"Manufacturer\"]\n",
    "\n",
    "le = LabelEncoder()\n",
    "\n",
    "# Convert the variables to numerical\n",
    "for i in range(6):\n",
    "    new = le.fit_transform(base_exp_pred[categorical_features[i]])\n",
    "    base_exp_pred[categorical_features[i]] = new"
   ]
  },
  {
   "cell_type": "code",
   "execution_count": null,
   "metadata": {},
   "outputs": [],
   "source": [
    "base_exp_pred.tail()"
   ]
  },
  {
   "cell_type": "code",
   "execution_count": null,
   "metadata": {},
   "outputs": [],
   "source": [
    "# Importamos librerias para escalar los datos, dividir el dataset y traer el modelo\n",
    "from sklearn.preprocessing import StandardScaler\n",
    "\n",
    "# Escalamos los datos\n",
    "scaler = StandardScaler()\n",
    "scaler.fit(base_exp_pred)\n",
    "base_exp_pred = scaler.transform(base_exp_pred)\n",
    "base_exp_pred"
   ]
  },
  {
   "cell_type": "code",
   "execution_count": null,
   "metadata": {},
   "outputs": [],
   "source": [
    "len(Data_exp)\n",
    "\n",
    "Data_List_Pred=base_exp_pred[-(len(Data_exp)+1):-1]"
   ]
  },
  {
   "cell_type": "code",
   "execution_count": null,
   "metadata": {},
   "outputs": [],
   "source": []
  },
  {
   "cell_type": "code",
   "execution_count": null,
   "metadata": {},
   "outputs": [],
   "source": [
    "y_pred_rfs = loaded_model.predict(Data_List_Pred)\n",
    "R_final = pd.DataFrame(np.exp(y_pred_rfs))\n",
    "R_final.columns = [\"ROP\"]\n",
    "#R_final\n",
    "Max_ROP=max(np.exp(y_pred_rfs))\n",
    "Indice=R_final.loc[R_final.ROP==Max_ROP].index\n",
    "#Max_ROP\n",
    "#Indice\n",
    "P_Opt=Data_exp.iloc[Indice].T\n",
    "#P_Opt"
   ]
  },
  {
   "cell_type": "code",
   "execution_count": null,
   "metadata": {},
   "outputs": [],
   "source": [
    "P_Opt=Data_exp.iloc[Indice].T"
   ]
  },
  {
   "cell_type": "code",
   "execution_count": null,
   "metadata": {},
   "outputs": [],
   "source": [
    "P_Opt\n",
    "\n",
    "print(\"La ROP Max alcanzada con estos parametros es: %.3f (ft/hr)\" %(Max_ROP))"
   ]
  },
  {
   "cell_type": "code",
   "execution_count": null,
   "metadata": {},
   "outputs": [],
   "source": [
    "Base_Frame.shape"
   ]
  },
  {
   "cell_type": "code",
   "execution_count": null,
   "metadata": {},
   "outputs": [],
   "source": [
    "y_pred_rfs.shape"
   ]
  },
  {
   "cell_type": "code",
   "execution_count": null,
   "metadata": {},
   "outputs": [],
   "source": [
    "Data_List_Pred.shape"
   ]
  },
  {
   "cell_type": "code",
   "execution_count": null,
   "metadata": {},
   "outputs": [],
   "source": [
    "Base_Frame[\"ROP Predict\"] = np.exp(y_pred_rfs)"
   ]
  },
  {
   "cell_type": "code",
   "execution_count": null,
   "metadata": {},
   "outputs": [],
   "source": [
    "Base_Frame"
   ]
  },
  {
   "cell_type": "code",
   "execution_count": null,
   "metadata": {},
   "outputs": [],
   "source": [
    "Base_Frame[Base_Frame[\"ROP Predict\"]==Max_ROP].T"
   ]
  },
  {
   "cell_type": "code",
   "execution_count": null,
   "metadata": {},
   "outputs": [],
   "source": [
    "Base_Frame.columns"
   ]
  },
  {
   "cell_type": "code",
   "execution_count": null,
   "metadata": {},
   "outputs": [],
   "source": [
    "Test=Base_Frame[(Base_Frame[\"Min Flow Rate\"]==500)&\n",
    "                (Base_Frame[\"Max Flow Rate\"]==1100)&\n",
    "                (Base_Frame[\"TFA\"]==4)&\n",
    "                (Base_Frame[\"HSI\"]==3)&\n",
    "                (Base_Frame[\"Min WOB\"]==10)&\n",
    "                (Base_Frame[\"Max WOB\"]==30)&\n",
    "                (Base_Frame[\"Min_RPM\"]==84)&\n",
    "                (Base_Frame[\"Max_RPM\"]==120)#&\n",
    "                #(Base_Frame[\"Torque Min\"]==15)&\n",
    "                #(Base_Frame[\"Torque Max\"]==50)\n",
    "               ]\n",
    "Test"
   ]
  },
  {
   "cell_type": "code",
   "execution_count": null,
   "metadata": {},
   "outputs": [],
   "source": [
    "Tabla=Test.pivot(index=\"Torque Min\",columns=\"Torque Max\",values=\"ROP Predict\")\n",
    "print(Tabla)"
   ]
  },
  {
   "cell_type": "code",
   "execution_count": null,
   "metadata": {},
   "outputs": [],
   "source": [
    "Test[\"Min Flow Rate\"].max()"
   ]
  },
  {
   "cell_type": "code",
   "execution_count": null,
   "metadata": {
    "scrolled": true
   },
   "outputs": [],
   "source": [
    "fig, ax = plt.subplots(figsize=(8,8))\n",
    "\n",
    "title = \"Curva de Nivel ROP\"\n",
    "\n",
    "plt.title(title,fontsize=25)\n",
    "ttl = ax.title\n",
    "ttl.set_position([0.5,1.05])\n",
    "\n",
    "sns.heatmap(Tabla,xticklabels=1,yticklabels=1,cmap=\"seismic\", ax=ax,\n",
    "            cbar_kws={\"shrink\": 0.8, \"label\":\" ROP (ft/hr)\",\"orientation\": \"horizontal\"},\n",
    "            annot_kws={'size':5}\n",
    "           )\n",
    "plt.ylim(0,5)\n",
    "#plt.xlim(1,60);"
   ]
  },
  {
   "cell_type": "markdown",
   "metadata": {},
   "source": [
    "# Seleccion de parametros optimos de para mapas de calor"
   ]
  },
  {
   "cell_type": "code",
   "execution_count": null,
   "metadata": {},
   "outputs": [],
   "source": [
    "print(range(100,500,10))"
   ]
  },
  {
   "cell_type": "code",
   "execution_count": null,
   "metadata": {},
   "outputs": [],
   "source": [
    "from itertools import product\n",
    "\n",
    "Size=[8.5]\n",
    "Re_Run=[\"N\"]\n",
    "Type=[\"PDC\"]\n",
    "Structure=[\"Anticlinal P\"]\n",
    "Formation=[\"Mirador\"]\n",
    "Footage=[150]\n",
    "Depth_Average=[15000]\n",
    "Blades = [13]\n",
    "Cutter_size=[11]\n",
    "Min_FR= range(400,710,10) # list(np.linspace(100,500,num=5))\n",
    "Max_FR = range(800,1200,10) # list(np.linspace(500,1100,num=5))\n",
    "TFA = [4] # list(np.linspace(1,5,num=5))\n",
    "HSI = [3] #  list(np.linspace(1,5,num=5))\n",
    "Min_WOB = [10] # list(np.linspace(5, 30, num=6))\n",
    "Max_WOB = [30] # list(np.linspace(30,55,num=6))\n",
    "Mud_Weight=[10]\n",
    "Drive_System=[\"RSS\"]\n",
    "Min_RPM = [84] # list(np.linspace(60,120,num=6))\n",
    "Max_RPM = [120] # list(np.linspace(120,170,num=7))\n",
    "T_Min = [15] # list(np.linspace(5,25,num=5))\n",
    "T_Max  = [50] # list(np.linspace(25,50,num=6))\n",
    "Manufacturer=[\"Smith\"]\n",
    "\n",
    "Data_exp_1=pd.DataFrame(list(product(Size,Re_Run,Type,Structure,Formation,Footage,Depth_Average,Blades,Cutter_size,Min_FR, Max_FR,TFA,HSI,Min_WOB,Max_WOB,Mud_Weight,Drive_System,Min_RPM,Max_RPM,T_Max,T_Min,Manufacturer)),\n",
    "                 columns=[\"Size\",\"Re_Run\",\"Type\",\"Structure\",\"Formation\",\"Footage\",\"Depth Average\",\"Blades\",\"Cutter size\",\"Min Flow Rate\", \"Max Flow Rate\",\"TFA\",\"HSI\",\"Min WOB\",\"Max WOB\",\"Mud Weight\",\"Drive_System\",\"Min_RPM\",\"Max_RPM\",\"Torque Max\",\"Torque Min\",\"Manufacturer\"])\n",
    "\n",
    "Data_exp_1.iloc[0:10] # Primeras cinco filas"
   ]
  },
  {
   "cell_type": "code",
   "execution_count": null,
   "metadata": {},
   "outputs": [],
   "source": [
    "Base_Frame_1 = Data_exp_1.copy()\n",
    "Base_Frame_1.columns"
   ]
  },
  {
   "cell_type": "code",
   "execution_count": null,
   "metadata": {},
   "outputs": [],
   "source": [
    "Data_exp_1"
   ]
  },
  {
   "cell_type": "code",
   "execution_count": null,
   "metadata": {},
   "outputs": [],
   "source": [
    "Data_exp_1.Footage=np.log(Data_exp_1.Footage)\n",
    "\n",
    "Data_exp_1[\"Min WOB\"]=np.log(Data_exp_1[\"Min WOB\"])\n",
    "\n",
    "Data_exp_1 = Data_exp_1.rename(columns = {\"Footage\":\"Log Footage\",\n",
    "                              \"Min WOB\":\"Log Min WOB\"})\n",
    "\n",
    "Data_exp_1.tail()"
   ]
  },
  {
   "cell_type": "code",
   "execution_count": null,
   "metadata": {},
   "outputs": [],
   "source": [
    "base_exp_pred_1=base.append(Data_exp_1)\n",
    "base_exp_pred_1"
   ]
  },
  {
   "cell_type": "code",
   "execution_count": null,
   "metadata": {},
   "outputs": [],
   "source": [
    "base_exp_pred_1[(base_exp_pred_1[\"Min Flow Rate\"]==500)&(base_exp_pred_1[\"Max Flow Rate\"]==1100)].T"
   ]
  },
  {
   "cell_type": "code",
   "execution_count": null,
   "metadata": {},
   "outputs": [],
   "source": [
    "# Verificamos las categorias de cada variable categorica\n",
    "print(base_exp_pred_1.Re_Run.unique())\n",
    "print(base_exp_pred_1.Type.unique())\n",
    "print(base_exp_pred_1.Structure.unique())\n",
    "print(base_exp_pred_1.Formation.unique())\n",
    "print(base_exp_pred_1.Drive_System.unique())\n",
    "print(base_exp_pred_1.Manufacturer.unique())"
   ]
  },
  {
   "cell_type": "code",
   "execution_count": null,
   "metadata": {},
   "outputs": [],
   "source": [
    "# Identificamos las etiquetas de las categorias\n",
    "categorical_features = ['Re_Run', 'Type', 'Structure',\"Formation\",\"Drive_System\",\"Manufacturer\"]\n",
    "\n",
    "le = LabelEncoder()\n",
    "\n",
    "# Convert the variables to numerical\n",
    "for i in range(6):\n",
    "    new = le.fit_transform(base_exp_pred_1[categorical_features[i]])\n",
    "    base_exp_pred_1[categorical_features[i]] = new\n",
    "\n",
    "base_exp_pred_1.tail()"
   ]
  },
  {
   "cell_type": "code",
   "execution_count": null,
   "metadata": {},
   "outputs": [],
   "source": [
    "# Importamos librerias para escalar los datos, dividir el dataset y traer el modelo\n",
    "from sklearn.preprocessing import StandardScaler\n",
    "\n",
    "# Escalamos los datos\n",
    "scaler = StandardScaler()\n",
    "scaler.fit(base_exp_pred_1)\n",
    "base_exp_pred_1 = scaler.transform(base_exp_pred_1)\n",
    "base_exp_pred_1"
   ]
  },
  {
   "cell_type": "code",
   "execution_count": null,
   "metadata": {},
   "outputs": [],
   "source": [
    "len(Data_exp_1)\n",
    "\n",
    "Data_List_Pred_1=base_exp_pred_1[-(len(Data_exp_1)+1):-1]"
   ]
  },
  {
   "cell_type": "code",
   "execution_count": null,
   "metadata": {},
   "outputs": [],
   "source": [
    "y_pred_rfs_1 = loaded_model.predict(Data_List_Pred_1)\n",
    "np.exp(y_pred_rfs_1.max())"
   ]
  },
  {
   "cell_type": "code",
   "execution_count": null,
   "metadata": {},
   "outputs": [],
   "source": [
    "Base_Frame_1"
   ]
  },
  {
   "cell_type": "code",
   "execution_count": null,
   "metadata": {},
   "outputs": [],
   "source": [
    "np.exp(y_pred_rfs_1).size"
   ]
  },
  {
   "cell_type": "code",
   "execution_count": null,
   "metadata": {},
   "outputs": [],
   "source": [
    "Base_Frame_1[\"ROP Predict\"] = np.exp(y_pred_rfs_1)\n",
    "Base_Frame_1"
   ]
  },
  {
   "cell_type": "code",
   "execution_count": null,
   "metadata": {},
   "outputs": [],
   "source": [
    "base_exp_pred_1[(base_exp_pred_1[\"Min Flow Rate\"]==500)&(base_exp_pred_1[\"Max Flow Rate\"]==1100)].T"
   ]
  },
  {
   "cell_type": "code",
   "execution_count": null,
   "metadata": {},
   "outputs": [],
   "source": [
    "Base_Frame_1.columns"
   ]
  },
  {
   "cell_type": "code",
   "execution_count": null,
   "metadata": {},
   "outputs": [],
   "source": [
    "Tabla_1=Base_Frame_1.pivot(index=\"Min Flow Rate\",columns=\"Max Flow Rate\",values=\"ROP Predict\")\n",
    "print(Tabla_1)"
   ]
  },
  {
   "cell_type": "code",
   "execution_count": null,
   "metadata": {},
   "outputs": [],
   "source": [
    "fig, ax = plt.subplots(figsize=(8,8))\n",
    "\n",
    "title = \"Curva de Nivel ROP\"\n",
    "\n",
    "plt.title(title,fontsize=25)\n",
    "ttl = ax.title\n",
    "ttl.set_position([0.5,1.05])\n",
    "\n",
    "sns.heatmap(Tabla_1,xticklabels=10,yticklabels=10,cmap=\"seismic\", ax=ax,\n",
    "            cbar_kws={\"shrink\": 0.8, \"label\":\" ROP (ft/hr)\",\"orientation\": \"horizontal\"},\n",
    "            annot_kws={'size':5}\n",
    "           )\n",
    "#plt.ylim(0,40)\n",
    "#plt.xlim(1,60);"
   ]
  },
  {
   "cell_type": "code",
   "execution_count": null,
   "metadata": {},
   "outputs": [],
   "source": []
  }
 ],
 "metadata": {
  "kernelspec": {
   "display_name": "Python 3",
   "language": "python",
   "name": "python3"
  },
  "language_info": {
   "codemirror_mode": {
    "name": "ipython",
    "version": 3
   },
   "file_extension": ".py",
   "mimetype": "text/x-python",
   "name": "python",
   "nbconvert_exporter": "python",
   "pygments_lexer": "ipython3",
   "version": "3.8.3"
  }
 },
 "nbformat": 4,
 "nbformat_minor": 4
}
